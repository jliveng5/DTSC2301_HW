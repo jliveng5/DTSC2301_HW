{
  "cells": [
    {
      "cell_type": "markdown",
      "metadata": {
        "id": "izKqG6OvCt21"
      },
      "source": [
        "## DTSC 2301 Spring 2025 Homework #1\n",
        "\n",
        "Turn in your assignment via Gradescope\n",
        "\n",
        "Due 1/17/25, 11: 59pm\n",
        "\n",
        "For this assignment you may *not* use any generative AI and you may only use python commands and code we used in class."
      ]
    },
    {
      "cell_type": "markdown",
      "metadata": {
        "id": "_-BP6mfTCt23"
      },
      "source": [
        "#### Question 1\n",
        "Read in the Penguins dataset (https://webpages.charlotte.edu/mschuck1/classes/DTSC2301/Data/penguins.csv).  Create a violinplot for penguin body mass."
      ]
    },
    {
      "cell_type": "code",
      "execution_count": 3,
      "metadata": {},
      "outputs": [],
      "source": [
        "# Load in packages we need for doing graphical representations.  \n",
        "from pathlib import Path\n",
        "import pandas as pd\n",
        "\n",
        "import matplotlib.pyplot as plt\n",
        "import numpy as np\n",
        "\n",
        "from matplotlib import colors\n",
        "\n",
        "import scipy.stats as stats\n",
        "\n"
      ]
    },
    {
      "cell_type": "code",
      "execution_count": 17,
      "metadata": {},
      "outputs": [
        {
          "name": "stdout",
          "output_type": "stream",
          "text": [
            "<class 'pandas.core.frame.DataFrame'>\n",
            "RangeIndex: 344 entries, 0 to 343\n",
            "Data columns (total 8 columns):\n",
            " #   Column             Non-Null Count  Dtype  \n",
            "---  ------             --------------  -----  \n",
            " 0   species            344 non-null    object \n",
            " 1   island             344 non-null    object \n",
            " 2   bill_length_mm     342 non-null    float64\n",
            " 3   bill_depth_mm      342 non-null    float64\n",
            " 4   flipper_length_mm  342 non-null    float64\n",
            " 5   body_mass_g        342 non-null    float64\n",
            " 6   sex                333 non-null    object \n",
            " 7   year               344 non-null    int64  \n",
            "dtypes: float64(4), int64(1), object(3)\n",
            "memory usage: 21.6+ KB\n"
          ]
        }
      ],
      "source": [
        "# read in the data to dataframe called ames\n",
        "ames = pd.read_csv((\"https://webpages.charlotte.edu/mschuck1/classes/DTSC2301/Data/penguins.csv\"), na_values=['?'])\n",
        "# replace the ? in the data with NaN for missing values\n",
        "ames.replace(['?'],np.NaN)\n",
        "# show information about the dataframe\n",
        "ames.info()"
      ]
    },
    {
      "cell_type": "code",
      "execution_count": 25,
      "metadata": {},
      "outputs": [
        {
          "data": {
            "image/png": "[encoded data removed]",
            "text/plain": [
              "<Figure size 640x480 with 1 Axes>"
            ]
          },
          "metadata": {},
          "output_type": "display_data"
        }
      ],
      "source": [
        "plt.violinplot(ames['body_mass_g'], showmedians=True, showextrema=True)\n",
        "plt.ylabel('body mass in grams')\n",
        "plt.show()\n"
      ]
    },
    {
      "cell_type": "markdown",
      "metadata": {
        "id": "_WPg6MJAD-0P"
      },
      "source": [
        "#### Question 2\n",
        "Again using the data on body mass of penguins, create and interpret a 95% confidence interval for the mean body weight of a penguin based upon this sample.  "
      ]
    },
    {
      "cell_type": "code",
      "execution_count": 34,
      "metadata": {},
      "outputs": [
        {
          "name": "stdout",
          "output_type": "stream",
          "text": [
            "Mean of the body mass in grams is  4201.75\n"
          ]
        },
        {
          "data": {
            "text/plain": [
              "(4116.458332024052, 4287.050439905773)"
            ]
          },
          "execution_count": 34,
          "metadata": {},
          "output_type": "execute_result"
        }
      ],
      "source": [
        "# create 95% confidence interval for population mean\n",
        "body_mass_g = ames['body_mass_g']\n",
        "print(\"Mean of the body mass in grams is \", np.round(np.mean(ames['body_mass_g']),2))\n",
        "stats.t.interval(confidence=0.95, \n",
        "              df=len(body_mass_g)-1, \n",
        "              loc=np.mean(body_mass_g),  \n",
        "              scale=stats.sem(body_mass_g)) "
      ]
    },
    {
      "cell_type": "markdown",
      "metadata": {},
      "source": [
        "In this model, I am 95% confident that the true mean body mass in grams for penguins is between 4,116.46 and 4,287.05 grams. The mean body mass in grams for penguins is 4,201.75 grams. "
      ]
    },
    {
      "cell_type": "markdown",
      "metadata": {
        "id": "QDh-l3nRCt24"
      },
      "source": [
        "#### Question 3\n",
        "Using the Ames Housing Data (https://webpages.charlotte.edu/mschuck1/classes/DTSC2301/Data/Ames_house_prices.csv), create a 92% confidence interval for the mean above grade (ground) living area square feet (GrLivArea).  Interpret this interval in the context of these data."
      ]
    },
    {
      "cell_type": "code",
      "execution_count": 35,
      "metadata": {},
      "outputs": [
        {
          "name": "stdout",
          "output_type": "stream",
          "text": [
            "<class 'pandas.core.frame.DataFrame'>\n",
            "RangeIndex: 1460 entries, 0 to 1459\n",
            "Data columns (total 81 columns):\n",
            " #   Column         Non-Null Count  Dtype  \n",
            "---  ------         --------------  -----  \n",
            " 0   Id             1460 non-null   int64  \n",
            " 1   MSSubClass     1460 non-null   int64  \n",
            " 2   MSZoning       1460 non-null   object \n",
            " 3   LotFrontage    1201 non-null   float64\n",
            " 4   LotArea        1460 non-null   int64  \n",
            " 5   Street         1460 non-null   object \n",
            " 6   Alley          91 non-null     object \n",
            " 7   LotShape       1460 non-null   object \n",
            " 8   LandContour    1460 non-null   object \n",
            " 9   Utilities      1460 non-null   object \n",
            " 10  LotConfig      1460 non-null   object \n",
            " 11  LandSlope      1460 non-null   object \n",
            " 12  Neighborhood   1460 non-null   object \n",
            " 13  Condition1     1460 non-null   object \n",
            " 14  Condition2     1460 non-null   object \n",
            " 15  BldgType       1460 non-null   object \n",
            " 16  HouseStyle     1460 non-null   object \n",
            " 17  OverallQual    1460 non-null   int64  \n",
            " 18  OverallCond    1460 non-null   int64  \n",
            " 19  YearBuilt      1460 non-null   int64  \n",
            " 20  YearRemodAdd   1460 non-null   int64  \n",
            " 21  RoofStyle      1460 non-null   object \n",
            " 22  RoofMatl       1460 non-null   object \n",
            " 23  Exterior1st    1460 non-null   object \n",
            " 24  Exterior2nd    1460 non-null   object \n",
            " 25  MasVnrType     588 non-null    object \n",
            " 26  MasVnrArea     1452 non-null   float64\n",
            " 27  ExterQual      1460 non-null   object \n",
            " 28  ExterCond      1460 non-null   object \n",
            " 29  Foundation     1460 non-null   object \n",
            " 30  BsmtQual       1423 non-null   object \n",
            " 31  BsmtCond       1423 non-null   object \n",
            " 32  BsmtExposure   1422 non-null   object \n",
            " 33  BsmtFinType1   1423 non-null   object \n",
            " 34  BsmtFinSF1     1460 non-null   int64  \n",
            " 35  BsmtFinType2   1422 non-null   object \n",
            " 36  BsmtFinSF2     1460 non-null   int64  \n",
            " 37  BsmtUnfSF      1460 non-null   int64  \n",
            " 38  TotalBsmtSF    1460 non-null   int64  \n",
            " 39  Heating        1460 non-null   object \n",
            " 40  HeatingQC      1460 non-null   object \n",
            " 41  CentralAir     1460 non-null   object \n",
            " 42  Electrical     1459 non-null   object \n",
            " 43  1stFlrSF       1460 non-null   int64  \n",
            " 44  2ndFlrSF       1460 non-null   int64  \n",
            " 45  LowQualFinSF   1460 non-null   int64  \n",
            " 46  GrLivArea      1460 non-null   int64  \n",
            " 47  BsmtFullBath   1460 non-null   int64  \n",
            " 48  BsmtHalfBath   1460 non-null   int64  \n",
            " 49  FullBath       1460 non-null   int64  \n",
            " 50  HalfBath       1460 non-null   int64  \n",
            " 51  BedroomAbvGr   1460 non-null   int64  \n",
            " 52  KitchenAbvGr   1460 non-null   int64  \n",
            " 53  KitchenQual    1460 non-null   object \n",
            " 54  TotRmsAbvGrd   1460 non-null   int64  \n",
            " 55  Functional     1460 non-null   object \n",
            " 56  Fireplaces     1460 non-null   int64  \n",
            " 57  FireplaceQu    770 non-null    object \n",
            " 58  GarageType     1379 non-null   object \n",
            " 59  GarageYrBlt    1379 non-null   float64\n",
            " 60  GarageFinish   1379 non-null   object \n",
            " 61  GarageCars     1460 non-null   int64  \n",
            " 62  GarageArea     1460 non-null   int64  \n",
            " 63  GarageQual     1379 non-null   object \n",
            " 64  GarageCond     1379 non-null   object \n",
            " 65  PavedDrive     1460 non-null   object \n",
            " 66  WoodDeckSF     1460 non-null   int64  \n",
            " 67  OpenPorchSF    1460 non-null   int64  \n",
            " 68  EnclosedPorch  1460 non-null   int64  \n",
            " 69  3SsnPorch      1460 non-null   int64  \n",
            " 70  ScreenPorch    1460 non-null   int64  \n",
            " 71  PoolArea       1460 non-null   int64  \n",
            " 72  PoolQC         7 non-null      object \n",
            " 73  Fence          281 non-null    object \n",
            " 74  MiscFeature    54 non-null     object \n",
            " 75  MiscVal        1460 non-null   int64  \n",
            " 76  MoSold         1460 non-null   int64  \n",
            " 77  YrSold         1460 non-null   int64  \n",
            " 78  SaleType       1460 non-null   object \n",
            " 79  SaleCondition  1460 non-null   object \n",
            " 80  SalePrice      1460 non-null   int64  \n",
            "dtypes: float64(3), int64(35), object(43)\n",
            "memory usage: 924.0+ KB\n"
          ]
        }
      ],
      "source": [
        "# read in the data to dataframe called ames\n",
        "ames = pd.read_csv((\"https://webpages.charlotte.edu/mschuck1/classes/DTSC2301/Data/Ames_house_prices.csv\"), na_values=['?'])\n",
        "# replace the ? in the data with NaN for missing values\n",
        "ames.replace(['?'],np.NaN)\n",
        "# show information about the dataframe\n",
        "ames.info()"
      ]
    },
    {
      "cell_type": "code",
      "execution_count": 39,
      "metadata": {},
      "outputs": [
        {
          "name": "stdout",
          "output_type": "stream",
          "text": [
            "Mean of the above grade living area in square feet 1515.46\n"
          ]
        },
        {
          "data": {
            "text/plain": [
              "(1491.3706943731436, 1539.5567028871305)"
            ]
          },
          "execution_count": 39,
          "metadata": {},
          "output_type": "execute_result"
        }
      ],
      "source": [
        "above_grade_living_area = ames['GrLivArea']\n",
        "print(\"Mean of the above grade living area in square feet\", np.round(np.mean(ames['GrLivArea']),2))\n",
        "stats.t.interval(confidence=0.92, \n",
        "              df=len(above_grade_living_area)-1, \n",
        "              loc=np.mean(above_grade_living_area),  \n",
        "              scale=stats.sem(above_grade_living_area)) "
      ]
    },
    {
      "cell_type": "markdown",
      "metadata": {},
      "source": [
        "In this model, I am 92% confident that the true mean above grade living area in square feet is between 1,491.37 and 1,539.56 square feet. The mean above grade living area in square feet is 1,515.46 square feet. "
      ]
    },
    {
      "cell_type": "markdown",
      "metadata": {
        "id": "9RFOSK4WCt25"
      },
      "source": [
        "#### Question 4\n",
        "Using the Ames Housing Data, create a 90% confidence interval for the standard deviation of Sale Price using the bootstrap.  Interpret this interval in the context of these data."
      ]
    },
    {
      "cell_type": "code",
      "execution_count": 4,
      "metadata": {},
      "outputs": [
        {
          "data": {
            "text/html": [
              "<div>\n",
              "<style scoped>\n",
              "    .dataframe tbody tr th:only-of-type {\n",
              "        vertical-align: middle;\n",
              "    }\n",
              "\n",
              "    .dataframe tbody tr th {\n",
              "        vertical-align: top;\n",
              "    }\n",
              "\n",
              "    .dataframe thead th {\n",
              "        text-align: right;\n",
              "    }\n",
              "</style>\n",
              "<table border=\"1\" class=\"dataframe\">\n",
              "  <thead>\n",
              "    <tr style=\"text-align: right;\">\n",
              "      <th></th>\n",
              "      <th>Id</th>\n",
              "      <th>MSSubClass</th>\n",
              "      <th>MSZoning</th>\n",
              "      <th>LotFrontage</th>\n",
              "      <th>LotArea</th>\n",
              "      <th>Street</th>\n",
              "      <th>Alley</th>\n",
              "      <th>LotShape</th>\n",
              "      <th>LandContour</th>\n",
              "      <th>Utilities</th>\n",
              "      <th>...</th>\n",
              "      <th>PoolArea</th>\n",
              "      <th>PoolQC</th>\n",
              "      <th>Fence</th>\n",
              "      <th>MiscFeature</th>\n",
              "      <th>MiscVal</th>\n",
              "      <th>MoSold</th>\n",
              "      <th>YrSold</th>\n",
              "      <th>SaleType</th>\n",
              "      <th>SaleCondition</th>\n",
              "      <th>SalePrice</th>\n",
              "    </tr>\n",
              "  </thead>\n",
              "  <tbody>\n",
              "    <tr>\n",
              "      <th>0</th>\n",
              "      <td>1</td>\n",
              "      <td>60</td>\n",
              "      <td>RL</td>\n",
              "      <td>65</td>\n",
              "      <td>8450</td>\n",
              "      <td>Pave</td>\n",
              "      <td>?</td>\n",
              "      <td>Reg</td>\n",
              "      <td>Lvl</td>\n",
              "      <td>AllPub</td>\n",
              "      <td>...</td>\n",
              "      <td>0</td>\n",
              "      <td>?</td>\n",
              "      <td>?</td>\n",
              "      <td>?</td>\n",
              "      <td>0</td>\n",
              "      <td>2</td>\n",
              "      <td>2008</td>\n",
              "      <td>WD</td>\n",
              "      <td>Normal</td>\n",
              "      <td>208500</td>\n",
              "    </tr>\n",
              "    <tr>\n",
              "      <th>2</th>\n",
              "      <td>3</td>\n",
              "      <td>60</td>\n",
              "      <td>RL</td>\n",
              "      <td>68</td>\n",
              "      <td>11250</td>\n",
              "      <td>Pave</td>\n",
              "      <td>?</td>\n",
              "      <td>IR1</td>\n",
              "      <td>Lvl</td>\n",
              "      <td>AllPub</td>\n",
              "      <td>...</td>\n",
              "      <td>0</td>\n",
              "      <td>?</td>\n",
              "      <td>?</td>\n",
              "      <td>?</td>\n",
              "      <td>0</td>\n",
              "      <td>9</td>\n",
              "      <td>2008</td>\n",
              "      <td>WD</td>\n",
              "      <td>Normal</td>\n",
              "      <td>223500</td>\n",
              "    </tr>\n",
              "    <tr>\n",
              "      <th>4</th>\n",
              "      <td>5</td>\n",
              "      <td>60</td>\n",
              "      <td>RL</td>\n",
              "      <td>84</td>\n",
              "      <td>14260</td>\n",
              "      <td>Pave</td>\n",
              "      <td>?</td>\n",
              "      <td>IR1</td>\n",
              "      <td>Lvl</td>\n",
              "      <td>AllPub</td>\n",
              "      <td>...</td>\n",
              "      <td>0</td>\n",
              "      <td>?</td>\n",
              "      <td>?</td>\n",
              "      <td>?</td>\n",
              "      <td>0</td>\n",
              "      <td>12</td>\n",
              "      <td>2008</td>\n",
              "      <td>WD</td>\n",
              "      <td>Normal</td>\n",
              "      <td>250000</td>\n",
              "    </tr>\n",
              "    <tr>\n",
              "      <th>6</th>\n",
              "      <td>7</td>\n",
              "      <td>20</td>\n",
              "      <td>RL</td>\n",
              "      <td>75</td>\n",
              "      <td>10084</td>\n",
              "      <td>Pave</td>\n",
              "      <td>?</td>\n",
              "      <td>Reg</td>\n",
              "      <td>Lvl</td>\n",
              "      <td>AllPub</td>\n",
              "      <td>...</td>\n",
              "      <td>0</td>\n",
              "      <td>?</td>\n",
              "      <td>?</td>\n",
              "      <td>?</td>\n",
              "      <td>0</td>\n",
              "      <td>8</td>\n",
              "      <td>2007</td>\n",
              "      <td>WD</td>\n",
              "      <td>Normal</td>\n",
              "      <td>307000</td>\n",
              "    </tr>\n",
              "    <tr>\n",
              "      <th>7</th>\n",
              "      <td>8</td>\n",
              "      <td>60</td>\n",
              "      <td>RL</td>\n",
              "      <td>?</td>\n",
              "      <td>10382</td>\n",
              "      <td>Pave</td>\n",
              "      <td>?</td>\n",
              "      <td>IR1</td>\n",
              "      <td>Lvl</td>\n",
              "      <td>AllPub</td>\n",
              "      <td>...</td>\n",
              "      <td>0</td>\n",
              "      <td>?</td>\n",
              "      <td>?</td>\n",
              "      <td>Shed</td>\n",
              "      <td>350</td>\n",
              "      <td>11</td>\n",
              "      <td>2009</td>\n",
              "      <td>WD</td>\n",
              "      <td>Normal</td>\n",
              "      <td>200000</td>\n",
              "    </tr>\n",
              "  </tbody>\n",
              "</table>\n",
              "<p>5 rows × 81 columns</p>\n",
              "</div>"
            ],
            "text/plain": [
              "   Id  MSSubClass MSZoning LotFrontage  LotArea Street Alley LotShape  \\\n",
              "0   1          60       RL          65     8450   Pave     ?      Reg   \n",
              "2   3          60       RL          68    11250   Pave     ?      IR1   \n",
              "4   5          60       RL          84    14260   Pave     ?      IR1   \n",
              "6   7          20       RL          75    10084   Pave     ?      Reg   \n",
              "7   8          60       RL           ?    10382   Pave     ?      IR1   \n",
              "\n",
              "  LandContour Utilities  ... PoolArea PoolQC Fence MiscFeature MiscVal MoSold  \\\n",
              "0         Lvl    AllPub  ...        0      ?     ?           ?       0      2   \n",
              "2         Lvl    AllPub  ...        0      ?     ?           ?       0      9   \n",
              "4         Lvl    AllPub  ...        0      ?     ?           ?       0     12   \n",
              "6         Lvl    AllPub  ...        0      ?     ?           ?       0      8   \n",
              "7         Lvl    AllPub  ...        0      ?     ?        Shed     350     11   \n",
              "\n",
              "  YrSold  SaleType  SaleCondition  SalePrice  \n",
              "0   2008        WD         Normal     208500  \n",
              "2   2008        WD         Normal     223500  \n",
              "4   2008        WD         Normal     250000  \n",
              "6   2007        WD         Normal     307000  \n",
              "7   2009        WD         Normal     200000  \n",
              "\n",
              "[5 rows x 81 columns]"
            ]
          },
          "execution_count": 4,
          "metadata": {},
          "output_type": "execute_result"
        }
      ],
      "source": [
        "# read in the data to dataframe called ames\n",
        "house_data = pd.read_csv(\"https://webpages.charlotte.edu/mschuck1/classes/DTSC2301/Data/Ames_house_prices.csv\")\n",
        "# remove rows with missing data\n",
        "house_data.dropna(inplace=True)\n",
        "house_data.head()"
      ]
    },
    {
      "cell_type": "code",
      "execution_count": 5,
      "metadata": {},
      "outputs": [
        {
          "name": "stdout",
          "output_type": "stream",
          "text": [
            "standard deviation of sale price in the original data is 89143.40492378542\n",
            "Standard Deviation of the bootstrapped standard deviation is 4555.656424833503\n"
          ]
        },
        {
          "data": {
            "text/plain": [
              "array([81678.56250416, 96716.9865313 ])"
            ]
          },
          "execution_count": 5,
          "metadata": {},
          "output_type": "execute_result"
        }
      ],
      "source": [
        "#make a object that is just the sale price for houses\n",
        "np.random.seed()\n",
        "sale_price = house_data['SalePrice'].dropna()\n",
        "std_sale_price = np.std(sale_price)\n",
        "print(\"standard deviation of sale price in the original data is\", np.std(sale_price))\n",
        "# get and store the total number of \n",
        "n_sale_price=len(sale_price)\n",
        "# n_reps is the number of bootstrap replicates \n",
        "n_reps = 5000\n",
        "\n",
        "# create an empty array to store the calculated means\n",
        "boot_means = []\n",
        "# loop through taking a sample and calculating a standard deviation from the sample n_reps times\n",
        "for i in range(n_reps):\n",
        "  # create a sample with replacement of size n_sale_price from sale_price\n",
        "  house_sale_price = np.random.choice(sale_price.tolist(), n_sale_price)\n",
        "  # calculate the mean of the values in house_sale_price and save in std\n",
        "  std = np.std(house_sale_price)\n",
        "  # add std to the list of other bootstrapped means\n",
        "  boot_means.append(std)\n",
        "\n",
        "# print the standard deviation of the bootstrapped means, boot_means\n",
        "print(\"Standard Deviation of the bootstrapped standard deviation is\", np.std(boot_means))\n",
        "# take the 5th percentile and the 95th percentile of the bootstrapped means to make a 90% confidence interval\n",
        "np.percentile(boot_means,[5, 95])\n"
      ]
    },
    {
      "cell_type": "markdown",
      "metadata": {},
      "source": [
        "In this model, I am 90% confident that the standard deviation of sale price is between $81,678.56 and $96,716.97. The standard deviation of the bootstrapped standard deviation is $4,555.66. "
      ]
    },
    {
      "cell_type": "markdown",
      "metadata": {
        "id": "cfr3iDgzCt26"
      },
      "source": [
        "#### Question 5\n",
        "Write a short 80-120 word paragraph explaining how data scientists should ensure that the analysis and its interpretation that you made about the Ames Housing Data do not inadvertently reinforce bias or inequalities in the housing market.\n"
      ]
    },
    {
      "cell_type": "markdown",
      "metadata": {},
      "source": [
        "Data Scientists can make sure that the housing data analysis and its interpretation do not reinforce bias or inequalities by using a higher confidence interval or by using less data points. For example, if you use a 95% confidence interval instead of a 90% confidence interval, you will get a more precise interval that fits the data better. The confidence level tells you how accurate the level fits the data so data scientists should use a higher confidence interval to prevent outliers or other kinds of bias from ruining the interval. In addition, using less data points gives you a more accurate interval since it will get rid of outliers if outliers were throwing off the interval. If you have more points included in the interval, there is a higher chance that a data point could be an outlier versus a smaller interval. "
      ]
    }
  ],
  "metadata": {
    "colab": {
      "provenance": []
    },
    "kernelspec": {
      "display_name": "base",
      "language": "python",
      "name": "python3"
    },
    "language_info": {
      "codemirror_mode": {
        "name": "ipython",
        "version": 3
      },
      "file_extension": ".py",
      "mimetype": "text/x-python",
      "name": "python",
      "nbconvert_exporter": "python",
      "pygments_lexer": "ipython3",
      "version": "3.12.4"
    }
  },
  "nbformat": 4,
  "nbformat_minor": 0
}
